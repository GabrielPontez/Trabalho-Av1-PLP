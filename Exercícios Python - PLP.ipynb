{
  "nbformat": 4,
  "nbformat_minor": 0,
  "metadata": {
    "colab": {
      "provenance": []
    },
    "kernelspec": {
      "name": "python3",
      "display_name": "Python 3"
    },
    "language_info": {
      "name": "python"
    }
  },
  "cells": [
    {
      "cell_type": "markdown",
      "source": [
        "---\n",
        "\n",
        "  Paradigmas de Linguagens de Programação :\n",
        "\n",
        "  Professor: Roberto Ricardo de Lima\n",
        "\n",
        "  Autor: Gabriel Minga Pontes\n",
        "\n",
        "---"
      ],
      "metadata": {
        "id": "I-aIrcbFnmoI"
      }
    },
    {
      "cell_type": "markdown",
      "source": [
        "Faça um programa que solicite o preço de uma mercadoria e o percentual de desconto.\n",
        "Exiba o valor do desconto e o preço a pagar.\n",
        "\n",
        "Resposta:"
      ],
      "metadata": {
        "id": "Tk6U9iEuoQyU"
      }
    },
    {
      "cell_type": "code",
      "source": [
        "preço = float(input(\"Digite o preço da mercadoria: \"))\n",
        "desconto = float(input(\"Digite o percentual de desconto: \"))\n",
        "valorDesconto = preço * desconto / 100\n",
        "aPagar = preço - valorDesconto\n",
        "print(\"Um desconto de %5.2f %% em uma mercadoria de R$ %7.2f\" % (desconto, preço))\n",
        "print(\"vale R$ %7.2f.\" % valorDesconto)\n",
        "print(\"O valor a pagar é de R$ %7.2f\" % aPagar)"
      ],
      "metadata": {
        "id": "3GlAegvhoSIc"
      },
      "execution_count": null,
      "outputs": []
    },
    {
      "cell_type": "markdown",
      "source": [
        "---\n",
        "\n",
        "Escreva um programa para calcular a redução do tempo de vida de um fumante.\n",
        "Pergunte a quantidade de cigarros fumados por dia e quantos anos ele já fumou.\n",
        "Considere que um fumante perde 10 minutos de vida a cada cigarro, e calcule quantos dias de vida um fumante perderá.\n",
        "Exiba o total em dias.\n",
        "\n",
        "Resposta:"
      ],
      "metadata": {
        "id": "6t3Ja3_xoUYd"
      }
    },
    {
      "cell_type": "code",
      "source": [
        "cigarrosDia = int(input(\"Quantidade de cigarros por dia: \"))\n",
        "anosFumando = float(input(\"Quantidade de anos fumando: \"))\n",
        "reducaoEmMin = anosFumando * 365 * cigarrosDia * 10\n",
        "\n",
        "reducaoEmDia = reducaoEmMin / (24 * 60)\n",
        "print(\"Redução do tempo de vida %8.2f dias.\" % reducaoEmDia)"
      ],
      "metadata": {
        "id": "7VudeuDMoXeO"
      },
      "execution_count": null,
      "outputs": []
    },
    {
      "cell_type": "markdown",
      "source": [
        "---\n",
        "\n",
        "Escreva um programa que pergunte o salário do funcionário e calcule o valor do aumento.\n",
        "Para salários superiores a R$ 1.250,00, calcule um aumento de 10%. Para os inferiores ou iguais, de 15%.\n",
        "\n",
        "Resposta:"
      ],
      "metadata": {
        "id": "F7g61kOCoZh0"
      }
    },
    {
      "cell_type": "code",
      "source": [
        "salario = float(input(\"Digite seu salário: \"))\n",
        "pcAumento = 0.15\n",
        "if salario > 1250:\n",
        "    pcAumento = 0.10\n",
        "aumento = salario * pcAumento\n",
        "print(f\"Seu aumento será de: R$ {aumento:7.2f}\")\n",
        "print(f\"o percentual de aumento foi: {pcAumento:7.2f}\")"
      ],
      "metadata": {
        "id": "bE-obrTNobYN"
      },
      "execution_count": null,
      "outputs": []
    },
    {
      "cell_type": "markdown",
      "source": [
        "---\n",
        "\n",
        "=> Atividade com Vetor\n",
        "\n",
        "Faça um programa em Python que receba 6 numeros inteiros e mostre:\n",
        "\n",
        "\n",
        "• Os numeros pares digitados;\n",
        "\n",
        "• A soma dos numeros pares digitados;\n",
        "\n",
        "• Os numeros   ımpares digitados;\n",
        "\n",
        "• A quantidade de numeros  ımpares\n",
        "\n",
        "Resposta:"
      ],
      "metadata": {
        "id": "IJzn_S-Joexe"
      }
    },
    {
      "cell_type": "code",
      "source": [
        "def main():\n",
        "    numeros = []\n",
        "    numerosPares = []\n",
        "    numerosImpares = []\n",
        "    somaPares = 0\n",
        "\n",
        "    for i in range(6):\n",
        "        numeros.append(int(input(\"Digite um número: \")))\n",
        "\n",
        "    for numero in numeros:\n",
        "        if numero % 2 == 0:\n",
        "            numerosPares.append(numero)\n",
        "            somaPares += numero\n",
        "        else:\n",
        "            numerosImpares.append(numero)\n",
        "\n",
        "    print(\"Os números pares digitados são:\")\n",
        "    for numero in numerosPares:\n",
        "        print(numero)\n",
        "\n",
        "    print(\"A soma dos números pares digitados é:\", somaPares)\n",
        "\n",
        "    print(\"Os números ímpares digitados são:\")\n",
        "    for numero in numerosImpares:\n",
        "        print(numero)\n",
        "\n",
        "    print(\"A quantidade de números ímpares digitados é:\", len(numerosImpares))\n",
        "\n",
        "if __name__ == \"__main__\":\n",
        "    main()"
      ],
      "metadata": {
        "id": "h7eV4kucoeW8"
      },
      "execution_count": null,
      "outputs": []
    },
    {
      "cell_type": "markdown",
      "source": [
        "---\n",
        "\n",
        "=> Atividade em Matriz\n",
        "\n",
        "Faça um programa em Python para gerar automaticamente numeros entre 0 e 99 de uma cartela de bingo. Sabendo que cada cartela devera conter 5 linhas de 5 numeros, gere estes dados de modo a não ter numeros repetidos dentro das cartelas. O programa deve exibir na tela a cartela gerada.\n",
        "\n",
        "Resposta:"
      ],
      "metadata": {
        "id": "CVTJbQx6o3MU"
      }
    },
    {
      "cell_type": "code",
      "source": [
        "import random\n",
        "\n",
        "def gerar_cartela():\n",
        "    numeros = set()\n",
        "    cartela = []\n",
        "    for i in range(5):\n",
        "        numero = random.randint(0, 99)\n",
        "        while numero in numeros:\n",
        "            numero = random.randint(0, 99)\n",
        "        numeros.add(numero)\n",
        "        cartela.append(numero)\n",
        "    return cartela\n",
        "\n",
        "def main():\n",
        "    cartela = gerar_cartela()\n",
        "    print(\"Cartela de bingo:\")\n",
        "    for linha in cartela:\n",
        "        print(linha)\n",
        "\n",
        "if __name__ == \"__main__\":\n",
        "    main()"
      ],
      "metadata": {
        "id": "tBxhCARZo9rN"
      },
      "execution_count": null,
      "outputs": []
    },
    {
      "cell_type": "markdown",
      "source": [
        "---\n",
        "\n",
        "=> Atividade com Dicionário\n",
        "\n",
        "Crie um dicionário que é uma agenda e coloque nele os seguintes dados:\n",
        "- chave (cpf);\n",
        "- nome;\n",
        "- idade;\n",
        "- telefone.\n",
        "\n",
        "O programa deve ler um número indeterminado de dados, criar a\n",
        "agenda e imprimir todos os itens do dicionário no formato chave:\n",
        "- nome;\n",
        "- idade;\n",
        "- fone.\n",
        "\n",
        "Resposta:"
      ],
      "metadata": {
        "id": "jcf0DDc0o_7k"
      }
    },
    {
      "cell_type": "code",
      "source": [
        "def main():\n",
        "    agenda = {}\n",
        "\n",
        "    while True:\n",
        "        cpf = input(\"Digite o CPF: \")\n",
        "        nome = input(\"Digite o nome: \")\n",
        "        idade = input(\"Digite a idade: \")\n",
        "        telefone = input(\"Digite o telefone: \")\n",
        "\n",
        "        agenda[cpf] = {\n",
        "            \"nome\": nome,\n",
        "            \"idade\": idade,\n",
        "            \"telefone\": telefone,\n",
        "        }\n",
        "\n",
        "        continuar = input(\"Deseja continuar? (s/n): \")\n",
        "        if continuar != \"s\":\n",
        "            break\n",
        "\n",
        "    for cpf, contato in agenda.items():\n",
        "        print(cpf, contato[\"nome\"], contato[\"idade\"], contato[\"telefone\"])\n",
        "\n",
        "if __name__ == \"__main__\":\n",
        "    main()"
      ],
      "metadata": {
        "id": "4n71Cmp4pchs"
      },
      "execution_count": null,
      "outputs": []
    }
  ]
}